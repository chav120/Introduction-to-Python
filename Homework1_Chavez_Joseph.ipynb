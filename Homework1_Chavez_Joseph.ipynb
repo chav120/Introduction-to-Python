{
  "nbformat": 4,
  "nbformat_minor": 0,
  "metadata": {
    "colab": {
      "name": "Homework1_Chavez_Joseph",
      "provenance": [],
      "collapsed_sections": [],
      "include_colab_link": true
    },
    "kernelspec": {
      "name": "python3",
      "display_name": "Python 3"
    }
  },
  "cells": [
    {
      "cell_type": "markdown",
      "metadata": {
        "id": "view-in-github",
        "colab_type": "text"
      },
      "source": [
        "<a href=\"https://colab.research.google.com/github/chav120/Introduction-to-Python/blob/main/Homework1_Chavez_Joseph.ipynb\" target=\"_parent\"><img src=\"https://colab.research.google.com/assets/colab-badge.svg\" alt=\"Open In Colab\"/></a>"
      ]
    },
    {
      "cell_type": "markdown",
      "metadata": {
        "id": "hm8RAKinXsIP"
      },
      "source": [
        "## **Homework 1**\n",
        "\n",
        "### Create a copy of the notebook to start answering the questions. Name your notebook in the format HW1_lastname_firstname.ipynb to facilitate the grading process. \n",
        "\n",
        "### Answer all the questions, test your code to ensure there are no errors and the results are as expected. Once you have answered all the questions, save the final copy, then go to File-> click on Download.ipynb. Once the local copy has been downloaded, submit your file on Blackboard under the corresponding assignment section. Also provide us a link to your notebook during submission. \n",
        "\n",
        "### **The due date of this homework is 02/05/2021 (Friday).**\n",
        "\n",
        "### Please ensure you follow all the steps mentioned in the homework.\n",
        "\n",
        "### All the questions have a sample input and output to help you understand the question. Please note that your programs will be tested for other sets of inputs and outputs along with the sample provided. So test your code for other inputs.\n",
        "\n",
        "### You can submit your solutions any number of times until the deadline.\n"
      ]
    },
    {
      "cell_type": "markdown",
      "metadata": {
        "id": "uacFrEaZfcfq"
      },
      "source": [
        "##### Q1. Write a program that prompts the user to enter a password then prints the length of the password.\n",
        "\n",
        "```\n",
        "Enter your password: hello\n",
        "Your password is 5 long.\n",
        "```\n",
        "\n",
        "\n"
      ]
    },
    {
      "cell_type": "code",
      "metadata": {
        "id": "avPyES14ftCt",
        "colab": {
          "base_uri": "https://localhost:8080/"
        },
        "outputId": "46fb415e-a84c-4ccf-eb19-c3b8e0b454a3"
      },
      "source": [
        "password = input(\"Enter your password: \")\n",
        "passwordLength = len(password)\n",
        "print(\"Your password is\", passwordLength, \"long.\")"
      ],
      "execution_count": null,
      "outputs": [
        {
          "output_type": "stream",
          "text": [
            "Enter your password: hello\n",
            "Your password is 5 long.\n"
          ],
          "name": "stdout"
        }
      ]
    },
    {
      "cell_type": "markdown",
      "metadata": {
        "id": "ekh-kABuItli"
      },
      "source": [
        ""
      ]
    },
    {
      "cell_type": "markdown",
      "metadata": {
        "id": "K1yko-xUItU3"
      },
      "source": [
        ""
      ]
    },
    {
      "cell_type": "markdown",
      "metadata": {
        "id": "behD0j_Of2TW"
      },
      "source": [
        "##### Q2. Write a program that prompts the user to enter their full name then prints the number of characters in their name (do not count spaces).\n",
        "\n",
        "```\n",
        "What is your name? Amulya Katti\n",
        "Amulya Katti your name has 11 characters.\n",
        "```"
      ]
    },
    {
      "cell_type": "code",
      "metadata": {
        "id": "XSdIRjwlhSlu",
        "colab": {
          "base_uri": "https://localhost:8080/"
        },
        "outputId": "71faa952-bd80-4a61-e379-dc503b022731"
      },
      "source": [
        "name = input(\"What is your name? \")\n",
        "newName = name.replace(\" \", \"\")\n",
        "print(name, \"your name has\", len(newName), \"characters.\")\n"
      ],
      "execution_count": null,
      "outputs": [
        {
          "output_type": "stream",
          "text": [
            "What is your name? Joseph Chavez\n",
            "Joseph Chavez your name has 12 characters.\n"
          ],
          "name": "stdout"
        }
      ]
    },
    {
      "cell_type": "markdown",
      "metadata": {
        "id": "5KHOWF6FhVHV"
      },
      "source": [
        "##### Q3. Write a program that prompts the user to enter a month (as a number), then prints the name of the month and the number of days in that month. Ensure that the user inputs a valid month and handle any error cases.\n",
        "\n",
        "```\n",
        "Enter the month number: 9\n",
        "September has 30 days\n",
        "```"
      ]
    },
    {
      "cell_type": "code",
      "metadata": {
        "id": "KhS-SAEThyTG",
        "colab": {
          "base_uri": "https://localhost:8080/"
        },
        "outputId": "a01b314f-50d4-47fc-fd0d-eb6622c5f5b3"
      },
      "source": [
        "monthDict = {\"1\": 31, \"2\": 28, \"3\": 31, \"4\": 30, \"5\": 31, \"6\": 30, \"7\": 31, \"8\": 31, \"9\": 30, \"10\": 31, \"11\": 30, \"12\": 31}\n",
        "monthList = [\"January\", \"February\", \"March\", \"April\", \"May\", \"June\", \"July\", \"August\", \"September\", \"October\", \"November\", \"December\"]\n",
        "monthNum = input(\"Enter the month number: \")\n",
        "if monthNum in monthDict:\n",
        "  print(monthList[(int(monthNum)-1)], \"has\", monthDict[monthNum], \"days\")\n",
        "while monthNum not in monthDict:\n",
        "  monthNum = input(\"Enter the month number: \")\n",
        "  if monthNum in monthDict:\n",
        "    print(monthList[(int(monthNum)-1)], \"has\", monthDict[monthNum], \"days\") "
      ],
      "execution_count": null,
      "outputs": [
        {
          "output_type": "stream",
          "text": [
            "Enter the month number: 15\n",
            "Enter the month number: 11\n",
            "November has 30 days\n"
          ],
          "name": "stdout"
        }
      ]
    },
    {
      "cell_type": "markdown",
      "metadata": {
        "id": "O7lnAdGlh6Xa"
      },
      "source": [
        "##### Q4. Write a program that prompts the user to enter a loan amount, annual interest rate, and number of years  for a car loan. Then calculate and print the monthly payment amount.\n",
        "\n",
        "Note:\n",
        "```\n",
        "PMT= [PV*i*((1+i)^n)]/[((1+i)^n)-1]\n",
        "```\n",
        "PMT is the monthly payment\n",
        "\n",
        "PV is the loan amount\n",
        "\n",
        "i is the interest rate per month in decimal form (interest rate percentage divided by 12)\n",
        "\n",
        "n is the number of months (term of the loan in months)\n",
        "\n",
        "```\n",
        "Loan Amount: 30000.00\n",
        "Annual Interest Rate: 4.00\n",
        "Years: 5\n",
        "Your monthly payment is: $552.50\n",
        "```"
      ]
    },
    {
      "cell_type": "code",
      "metadata": {
        "id": "p4B5JH5GiTs9",
        "colab": {
          "base_uri": "https://localhost:8080/"
        },
        "outputId": "67f7d084-2f9a-4a64-898d-47fae6e51296"
      },
      "source": [
        "pv = int(input(\"Loan Amount: \"))\n",
        "annualRate = input(\"Annual Interest Rate: \")\n",
        "i = (((int(annualRate))/100)/12)\n",
        "years = input(\"Years: \")\n",
        "n = int(int(years) * 12)\n",
        "monthlyPayment = (pv*i*((1+i)**n))/(((1+i)**n)-1)\n",
        "print(\"Your monthly payment is: $\" + str(round(monthlyPayment, 2)))"
      ],
      "execution_count": null,
      "outputs": [
        {
          "output_type": "stream",
          "text": [
            "Loan Amount: 20000\n",
            "Annual Interest Rate: 5\n",
            "Years: 2\n",
            "Your monthly payment is: $877.43\n"
          ],
          "name": "stdout"
        }
      ]
    },
    {
      "cell_type": "markdown",
      "metadata": {
        "id": "SjiolJKgiWV-"
      },
      "source": [
        "##### Q5. Write a program to that prompts the user to enter a string. Then check whether or not the string is a palindrome.\n",
        "\n",
        "```\n",
        "Enter a string: Madam\n",
        "Madam, is a palindrome!\n",
        "```"
      ]
    },
    {
      "cell_type": "code",
      "metadata": {
        "id": "F5_M934Ri0es",
        "colab": {
          "base_uri": "https://localhost:8080/"
        },
        "outputId": "9e85e3f2-ae0f-4a44-93e8-565540c23d45"
      },
      "source": [
        "string = input(\"Enter a string: \")\n",
        "newString = string.lower().strip().replace(\" \", \"\")\n",
        "stringList = list(newString)\n",
        "reverseString = stringList[::-1]\n",
        "if stringList == reverseString:\n",
        "  print(string.capitalize() + \", is a palindrome!\")\n",
        "else:\n",
        "  print(string.capitalize() + \", is not a palindrome.\")\n"
      ],
      "execution_count": null,
      "outputs": [
        {
          "output_type": "stream",
          "text": [
            "Enter a string: race car\n",
            "Race car, is a palindrome!\n"
          ],
          "name": "stdout"
        }
      ]
    },
    {
      "cell_type": "markdown",
      "metadata": {
        "id": "BLBD6n9vkJEu"
      },
      "source": [
        "##### Q6. Write a program to compute and print all possible combinations of change for \\$1. Denominations to be considered – quarter, dime, nickel, penny.\n",
        "\n",
        "Hint: Use nested loops (loops within loops for the various denominations of coins)\n",
        "\n",
        "```\n",
        "Change for $1:\n",
        "0 quarters, 0 dimes, 0 nickels, 100 pennies\n",
        "…\n",
        "4 quarters, 0 dimes, 0 nickels, 0 pennies\n",
        "```"
      ]
    },
    {
      "cell_type": "code",
      "metadata": {
        "id": "kAQsTjwDkZZ5",
        "colab": {
          "base_uri": "https://localhost:8080/"
        },
        "outputId": "81079fb5-3d8d-479f-ece2-7992a0f63070"
      },
      "source": [
        "pennies = list(range(1,101))\n",
        "nickels = list(range(1,21))\n",
        "dimes = list(range(1,11))\n",
        "quarters = list(range(1,5))\n",
        "\n",
        "# numPennies = 0\n",
        "# numNickels = 0\n",
        "# numDimes = 0\n",
        "# numQuarters = 0\n",
        "total = 0\n",
        "\n",
        "for p in pennies:\n",
        "  if total + p == 100:\n",
        "    print(\"0 quarters, 0 dimes, 0 nickels,\", p, \"pennies\")\n",
        "  elif total + p != 100:\n",
        "    for n in nickels:\n",
        "      if total + p + (n*5) == 100:\n",
        "        print(\"0 quarters, 0 dimes,\", n, \"nickels,\", p, \"pennies\")\n",
        "      elif total + p + (n*5) != 100:\n",
        "        for d in dimes:\n",
        "          if total + p + (n*5) + (d*10) == 100:\n",
        "            print(\"0 quarters,\", d, \"dimes,\", n, \"nickels,\", p, \"pennies\")\n",
        "          elif total + p + (n*5) + (d*10) != 100:\n",
        "            for q in quarters:\n",
        "              if total + p + (n*5) + (d*10) + (q*25)== 100:\n",
        "                print(q, \"quarters,\", d, \"dimes,\", n, \"nickels,\", p, \"pennies\")\n",
        "\n",
        "\n",
        "\n",
        "  \n",
        "\n"
      ],
      "execution_count": null,
      "outputs": [
        {
          "output_type": "stream",
          "text": [
            "2 quarters, 4 dimes, 1 nickels, 5 pennies\n",
            "0 quarters, 9 dimes, 1 nickels, 5 pennies\n",
            "3 quarters, 1 dimes, 2 nickels, 5 pennies\n",
            "1 quarters, 6 dimes, 2 nickels, 5 pennies\n",
            "2 quarters, 3 dimes, 3 nickels, 5 pennies\n",
            "0 quarters, 8 dimes, 3 nickels, 5 pennies\n",
            "1 quarters, 5 dimes, 4 nickels, 5 pennies\n",
            "2 quarters, 2 dimes, 5 nickels, 5 pennies\n",
            "0 quarters, 7 dimes, 5 nickels, 5 pennies\n",
            "1 quarters, 4 dimes, 6 nickels, 5 pennies\n",
            "2 quarters, 1 dimes, 7 nickels, 5 pennies\n",
            "0 quarters, 6 dimes, 7 nickels, 5 pennies\n",
            "1 quarters, 3 dimes, 8 nickels, 5 pennies\n",
            "0 quarters, 5 dimes, 9 nickels, 5 pennies\n",
            "1 quarters, 2 dimes, 10 nickels, 5 pennies\n",
            "0 quarters, 4 dimes, 11 nickels, 5 pennies\n",
            "1 quarters, 1 dimes, 12 nickels, 5 pennies\n",
            "0 quarters, 3 dimes, 13 nickels, 5 pennies\n",
            "0 quarters, 2 dimes, 15 nickels, 5 pennies\n",
            "0 quarters, 1 dimes, 17 nickels, 5 pennies\n",
            "0 quarters, 0 dimes, 19 nickels, 5 pennies\n",
            "3 quarters, 1 dimes, 1 nickels, 10 pennies\n",
            "1 quarters, 6 dimes, 1 nickels, 10 pennies\n",
            "2 quarters, 3 dimes, 2 nickels, 10 pennies\n",
            "0 quarters, 8 dimes, 2 nickels, 10 pennies\n",
            "1 quarters, 5 dimes, 3 nickels, 10 pennies\n",
            "2 quarters, 2 dimes, 4 nickels, 10 pennies\n",
            "0 quarters, 7 dimes, 4 nickels, 10 pennies\n",
            "1 quarters, 4 dimes, 5 nickels, 10 pennies\n",
            "2 quarters, 1 dimes, 6 nickels, 10 pennies\n",
            "0 quarters, 6 dimes, 6 nickels, 10 pennies\n",
            "1 quarters, 3 dimes, 7 nickels, 10 pennies\n",
            "0 quarters, 5 dimes, 8 nickels, 10 pennies\n",
            "1 quarters, 2 dimes, 9 nickels, 10 pennies\n",
            "0 quarters, 4 dimes, 10 nickels, 10 pennies\n",
            "1 quarters, 1 dimes, 11 nickels, 10 pennies\n",
            "0 quarters, 3 dimes, 12 nickels, 10 pennies\n",
            "0 quarters, 2 dimes, 14 nickels, 10 pennies\n",
            "0 quarters, 1 dimes, 16 nickels, 10 pennies\n",
            "0 quarters, 0 dimes, 18 nickels, 10 pennies\n",
            "2 quarters, 3 dimes, 1 nickels, 15 pennies\n",
            "0 quarters, 8 dimes, 1 nickels, 15 pennies\n",
            "1 quarters, 5 dimes, 2 nickels, 15 pennies\n",
            "2 quarters, 2 dimes, 3 nickels, 15 pennies\n",
            "0 quarters, 7 dimes, 3 nickels, 15 pennies\n",
            "1 quarters, 4 dimes, 4 nickels, 15 pennies\n",
            "2 quarters, 1 dimes, 5 nickels, 15 pennies\n",
            "0 quarters, 6 dimes, 5 nickels, 15 pennies\n",
            "1 quarters, 3 dimes, 6 nickels, 15 pennies\n",
            "0 quarters, 5 dimes, 7 nickels, 15 pennies\n",
            "1 quarters, 2 dimes, 8 nickels, 15 pennies\n",
            "0 quarters, 4 dimes, 9 nickels, 15 pennies\n",
            "1 quarters, 1 dimes, 10 nickels, 15 pennies\n",
            "0 quarters, 3 dimes, 11 nickels, 15 pennies\n",
            "0 quarters, 2 dimes, 13 nickels, 15 pennies\n",
            "0 quarters, 1 dimes, 15 nickels, 15 pennies\n",
            "0 quarters, 0 dimes, 17 nickels, 15 pennies\n",
            "1 quarters, 5 dimes, 1 nickels, 20 pennies\n",
            "2 quarters, 2 dimes, 2 nickels, 20 pennies\n",
            "0 quarters, 7 dimes, 2 nickels, 20 pennies\n",
            "1 quarters, 4 dimes, 3 nickels, 20 pennies\n",
            "2 quarters, 1 dimes, 4 nickels, 20 pennies\n",
            "0 quarters, 6 dimes, 4 nickels, 20 pennies\n",
            "1 quarters, 3 dimes, 5 nickels, 20 pennies\n",
            "0 quarters, 5 dimes, 6 nickels, 20 pennies\n",
            "1 quarters, 2 dimes, 7 nickels, 20 pennies\n",
            "0 quarters, 4 dimes, 8 nickels, 20 pennies\n",
            "1 quarters, 1 dimes, 9 nickels, 20 pennies\n",
            "0 quarters, 3 dimes, 10 nickels, 20 pennies\n",
            "0 quarters, 2 dimes, 12 nickels, 20 pennies\n",
            "0 quarters, 1 dimes, 14 nickels, 20 pennies\n",
            "0 quarters, 0 dimes, 16 nickels, 20 pennies\n",
            "2 quarters, 2 dimes, 1 nickels, 25 pennies\n",
            "0 quarters, 7 dimes, 1 nickels, 25 pennies\n",
            "1 quarters, 4 dimes, 2 nickels, 25 pennies\n",
            "2 quarters, 1 dimes, 3 nickels, 25 pennies\n",
            "0 quarters, 6 dimes, 3 nickels, 25 pennies\n",
            "1 quarters, 3 dimes, 4 nickels, 25 pennies\n",
            "0 quarters, 5 dimes, 5 nickels, 25 pennies\n",
            "1 quarters, 2 dimes, 6 nickels, 25 pennies\n",
            "0 quarters, 4 dimes, 7 nickels, 25 pennies\n",
            "1 quarters, 1 dimes, 8 nickels, 25 pennies\n",
            "0 quarters, 3 dimes, 9 nickels, 25 pennies\n",
            "0 quarters, 2 dimes, 11 nickels, 25 pennies\n",
            "0 quarters, 1 dimes, 13 nickels, 25 pennies\n",
            "0 quarters, 0 dimes, 15 nickels, 25 pennies\n",
            "1 quarters, 4 dimes, 1 nickels, 30 pennies\n",
            "2 quarters, 1 dimes, 2 nickels, 30 pennies\n",
            "0 quarters, 6 dimes, 2 nickels, 30 pennies\n",
            "1 quarters, 3 dimes, 3 nickels, 30 pennies\n",
            "0 quarters, 5 dimes, 4 nickels, 30 pennies\n",
            "1 quarters, 2 dimes, 5 nickels, 30 pennies\n",
            "0 quarters, 4 dimes, 6 nickels, 30 pennies\n",
            "1 quarters, 1 dimes, 7 nickels, 30 pennies\n",
            "0 quarters, 3 dimes, 8 nickels, 30 pennies\n",
            "0 quarters, 2 dimes, 10 nickels, 30 pennies\n",
            "0 quarters, 1 dimes, 12 nickels, 30 pennies\n",
            "0 quarters, 0 dimes, 14 nickels, 30 pennies\n",
            "2 quarters, 1 dimes, 1 nickels, 35 pennies\n",
            "0 quarters, 6 dimes, 1 nickels, 35 pennies\n",
            "1 quarters, 3 dimes, 2 nickels, 35 pennies\n",
            "0 quarters, 5 dimes, 3 nickels, 35 pennies\n",
            "1 quarters, 2 dimes, 4 nickels, 35 pennies\n",
            "0 quarters, 4 dimes, 5 nickels, 35 pennies\n",
            "1 quarters, 1 dimes, 6 nickels, 35 pennies\n",
            "0 quarters, 3 dimes, 7 nickels, 35 pennies\n",
            "0 quarters, 2 dimes, 9 nickels, 35 pennies\n",
            "0 quarters, 1 dimes, 11 nickels, 35 pennies\n",
            "0 quarters, 0 dimes, 13 nickels, 35 pennies\n",
            "1 quarters, 3 dimes, 1 nickels, 40 pennies\n",
            "0 quarters, 5 dimes, 2 nickels, 40 pennies\n",
            "1 quarters, 2 dimes, 3 nickels, 40 pennies\n",
            "0 quarters, 4 dimes, 4 nickels, 40 pennies\n",
            "1 quarters, 1 dimes, 5 nickels, 40 pennies\n",
            "0 quarters, 3 dimes, 6 nickels, 40 pennies\n",
            "0 quarters, 2 dimes, 8 nickels, 40 pennies\n",
            "0 quarters, 1 dimes, 10 nickels, 40 pennies\n",
            "0 quarters, 0 dimes, 12 nickels, 40 pennies\n",
            "0 quarters, 5 dimes, 1 nickels, 45 pennies\n",
            "1 quarters, 2 dimes, 2 nickels, 45 pennies\n",
            "0 quarters, 4 dimes, 3 nickels, 45 pennies\n",
            "1 quarters, 1 dimes, 4 nickels, 45 pennies\n",
            "0 quarters, 3 dimes, 5 nickels, 45 pennies\n",
            "0 quarters, 2 dimes, 7 nickels, 45 pennies\n",
            "0 quarters, 1 dimes, 9 nickels, 45 pennies\n",
            "0 quarters, 0 dimes, 11 nickels, 45 pennies\n",
            "1 quarters, 2 dimes, 1 nickels, 50 pennies\n",
            "0 quarters, 4 dimes, 2 nickels, 50 pennies\n",
            "1 quarters, 1 dimes, 3 nickels, 50 pennies\n",
            "0 quarters, 3 dimes, 4 nickels, 50 pennies\n",
            "0 quarters, 2 dimes, 6 nickels, 50 pennies\n",
            "0 quarters, 1 dimes, 8 nickels, 50 pennies\n",
            "0 quarters, 0 dimes, 10 nickels, 50 pennies\n",
            "0 quarters, 4 dimes, 1 nickels, 55 pennies\n",
            "1 quarters, 1 dimes, 2 nickels, 55 pennies\n",
            "0 quarters, 3 dimes, 3 nickels, 55 pennies\n",
            "0 quarters, 2 dimes, 5 nickels, 55 pennies\n",
            "0 quarters, 1 dimes, 7 nickels, 55 pennies\n",
            "0 quarters, 0 dimes, 9 nickels, 55 pennies\n",
            "1 quarters, 1 dimes, 1 nickels, 60 pennies\n",
            "0 quarters, 3 dimes, 2 nickels, 60 pennies\n",
            "0 quarters, 2 dimes, 4 nickels, 60 pennies\n",
            "0 quarters, 1 dimes, 6 nickels, 60 pennies\n",
            "0 quarters, 0 dimes, 8 nickels, 60 pennies\n",
            "0 quarters, 3 dimes, 1 nickels, 65 pennies\n",
            "0 quarters, 2 dimes, 3 nickels, 65 pennies\n",
            "0 quarters, 1 dimes, 5 nickels, 65 pennies\n",
            "0 quarters, 0 dimes, 7 nickels, 65 pennies\n",
            "0 quarters, 2 dimes, 2 nickels, 70 pennies\n",
            "0 quarters, 1 dimes, 4 nickels, 70 pennies\n",
            "0 quarters, 0 dimes, 6 nickels, 70 pennies\n",
            "0 quarters, 2 dimes, 1 nickels, 75 pennies\n",
            "0 quarters, 1 dimes, 3 nickels, 75 pennies\n",
            "0 quarters, 0 dimes, 5 nickels, 75 pennies\n",
            "0 quarters, 1 dimes, 2 nickels, 80 pennies\n",
            "0 quarters, 0 dimes, 4 nickels, 80 pennies\n",
            "0 quarters, 1 dimes, 1 nickels, 85 pennies\n",
            "0 quarters, 0 dimes, 3 nickels, 85 pennies\n",
            "0 quarters, 0 dimes, 2 nickels, 90 pennies\n",
            "0 quarters, 0 dimes, 1 nickels, 95 pennies\n",
            "0 quarters, 0 dimes, 0 nickels, 100 pennies\n"
          ],
          "name": "stdout"
        }
      ]
    },
    {
      "cell_type": "markdown",
      "metadata": {
        "id": "rUPDjYiIkbgs"
      },
      "source": [
        "##### Q7. Ask the user to enter two positive integers between 1 and 100. Read those integers. Then output a multiplication table of the first number times the second number. \n",
        "\n",
        "Note: You have to ensure the entered numbers are between 1 and 100 only.\n",
        "\n",
        "```\n",
        "Please enter an integer: 5\n",
        "Please enter another integer: 20\n",
        "5 x 1 = 5\n",
        "5 x 2 = 10\n",
        "5 x 3 = 15\n",
        "…\n",
        "5 x 20 = 100\n",
        "```"
      ]
    },
    {
      "cell_type": "code",
      "metadata": {
        "id": "Qg0Orv1klHzA",
        "colab": {
          "base_uri": "https://localhost:8080/"
        },
        "outputId": "44625805-9e7d-49d4-ea8e-4a2f9f10cca1"
      },
      "source": [
        "numOne = int(input(\"Please enter an integer between 1 and 100: \"))\n",
        "while numOne > 100 or numOne < 0:\n",
        "  numOne = int(input(\"Whoops! Please enter an integer between 1 and 100: \"))\n",
        "numTwo = int(input(\"Please enter another integer between 1 and 100: \"))\n",
        "while numTwo > 100 or numTwo < 0:\n",
        "  numTwo = int(input(\"Whoops! Please enter another integer between 1 and 100: \"))\n",
        "numList = range(1,numTwo+1)\n",
        "for i in numList:\n",
        "  if i <= numTwo:\n",
        "    print(numOne, \"x\", i, \"=\", numOne * i)"
      ],
      "execution_count": null,
      "outputs": [
        {
          "output_type": "stream",
          "text": [
            "Please enter an integer between 1 and 100: 10\n",
            "Please enter another integer between 1 and 100: 5\n",
            "10 x 1 = 10\n",
            "10 x 2 = 20\n",
            "10 x 3 = 30\n",
            "10 x 4 = 40\n",
            "10 x 5 = 50\n"
          ],
          "name": "stdout"
        }
      ]
    },
    {
      "cell_type": "markdown",
      "metadata": {
        "id": "SbnbPUPTlLD9"
      },
      "source": [
        "##### Q8. Write a program to ask the user to enter a password. Then check to see if it is a valid password based on these requirements -\n",
        "\n",
        "Must be at least 8 characters long\n",
        "\n",
        "Must contain both uppercase and lowercase letters\n",
        "\n",
        "Must contain at least one number between 0-9\n",
        "\n",
        "Must contain a special character -!,@,#,$\n",
        "\n",
        "If the password is not valid, ask the user to re-enter. This should continue until the user enters a valid password. After a valid password is entered, print Access Granted!\n",
        "\n",
        "```\n",
        "Please enter a password. Follow these requirements - \n",
        "a. Must be at least 8 characters long\n",
        "b. Must contain both uppercase and lowercase letters\n",
        "c. Must contain at least one number between 0-9\n",
        "d. Must contain a special character -!,@,#,$\n",
        "Password: HelloWorld1\n",
        "Invalid password. Try again!\n",
        "Password: Hello@World1\n",
        "Access Granted!\n",
        "```\n"
      ]
    },
    {
      "cell_type": "code",
      "metadata": {
        "id": "OXmZ177Rl-RV",
        "colab": {
          "base_uri": "https://localhost:8080/"
        },
        "outputId": "f1bfa312-ee58-4608-eb4d-2babb52db2f9"
      },
      "source": [
        "print(\"Please enter a password. Follow these requirements -\")\n",
        "print(\"a. Must be at least 8 characters long\")\n",
        "print(\"b. Must contain both uppercase and lowercase letters\")\n",
        "print(\"c. Must contain at least one number between 0-9\")\n",
        "print(\"d. Must contain a special character - !, @, #, $\")\n",
        "\n",
        "start = True\n",
        "password = input(\"Password: \")\n",
        "\n",
        "while start == True:\n",
        "  special = [\"!\", \"@\", \"#\", \"$\"]\n",
        "  numberCheck = any(char.isdigit() for char in password)\n",
        "  specialCount = 0\n",
        "  passwordList = list(password)\n",
        "\n",
        "  for i in passwordList:\n",
        "    if i in special:\n",
        "      specialCount = specialCount + 1\n",
        "\n",
        "  if len(password) <= 7:\n",
        "    print(\"Invalid password. Try again!\")\n",
        "    password = input(\"Password: \")\n",
        "  elif password == password.lower():\n",
        "    print(\"Invalid password. Try again!\")\n",
        "    password = input(\"Password: \")\n",
        "  elif password == password.upper():\n",
        "    print(\"Invalid password. Try again!\")\n",
        "    password = input(\"Password: \")\n",
        "  elif numberCheck == False:\n",
        "    print(\"Invalid password. Try again!\")\n",
        "    password = input(\"Password: \")\n",
        "  elif specialCount == 0:\n",
        "    print(\"Invalid password. Try again!\")\n",
        "    password = input(\"Password: \")\n",
        "  else: \n",
        "    print(\"Access granted!\")\n",
        "    start = False"
      ],
      "execution_count": null,
      "outputs": [
        {
          "output_type": "stream",
          "text": [
            "Please enter a password. Follow these requirements -\n",
            "a. Must be at least 8 characters long\n",
            "b. Must contain both uppercase and lowercase letters\n",
            "c. Must contain at least one number between 0-9\n",
            "d. Must contain a special character - !, @, #, $\n",
            "Password: josephchavez11\n",
            "Invalid password. Try again!\n",
            "Password: josephChavez11\n",
            "Invalid password. Try again!\n",
            "Password: josephChvez22!\n",
            "Access granted!\n"
          ],
          "name": "stdout"
        }
      ]
    },
    {
      "cell_type": "markdown",
      "metadata": {
        "id": "-0sdutTDnTKA"
      },
      "source": [
        "##### Q9. Given the score sheet of participants in a competition, you are required to find the runner-up score. You are given scores in a list. Find the score of the runner-up.\n",
        "\n",
        "```\n",
        "list1 - [2, 3, 6, 6, 5]\n",
        "runner_up - 5\n",
        "\n",
        "list2 - [1, 7, 5, 3, 10, 4, 5, 5, 6, 11]\n",
        "runner_up - 10\n",
        "```"
      ]
    },
    {
      "cell_type": "code",
      "metadata": {
        "id": "12YP9OaqpGRK",
        "colab": {
          "base_uri": "https://localhost:8080/"
        },
        "outputId": "79581044-77a1-42e2-ad95-2adcd72b4ca2"
      },
      "source": [
        "list1 = [2, 3, 6, 6, 5]\n",
        "list2 = [1, 7, 5, 3, 10, 4, 5, 5, 6, 11]\n",
        "newList1 = []\n",
        "newList2 = []\n",
        "\n",
        "print(\"list1 -\", list1)\n",
        "list1.sort(reverse=True)\n",
        "for i in list1:\n",
        "  if i not in newList1:\n",
        "    newList1.append(i)\n",
        "print(\"runner_up -\", newList1[1],\"\\n\")\n",
        "\n",
        "print(\"list2 -\", list2)\n",
        "list2.sort(reverse=True)\n",
        "for i in list2:\n",
        "  if i not in newList2:\n",
        "    newList2.append(i)\n",
        "print(\"runner_up -\", newList2[1])"
      ],
      "execution_count": null,
      "outputs": [
        {
          "output_type": "stream",
          "text": [
            "list1 - [2, 3, 6, 6, 5]\n",
            "runner_up - 5 \n",
            "\n",
            "list2 - [1, 7, 5, 3, 10, 4, 5, 5, 6, 11]\n",
            "runner_up - 10\n"
          ],
          "name": "stdout"
        }
      ]
    }
  ]
}